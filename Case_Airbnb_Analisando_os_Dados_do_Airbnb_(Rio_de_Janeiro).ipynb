{
  "nbformat": 4,
  "nbformat_minor": 0,
  "metadata": {
    "colab": {
      "name": "Case_Airbnb_Analisando os Dados do Airbnb (Rio de Janeiro).ipynb",
      "provenance": [],
      "collapsed_sections": [],
      "include_colab_link": true
    },
    "kernelspec": {
      "name": "python3",
      "display_name": "Python 3"
    }
  },
  "cells": [
    {
      "cell_type": "markdown",
      "metadata": {
        "id": "view-in-github",
        "colab_type": "text"
      },
      "source": [
        "<a href=\"https://colab.research.google.com/github/paulopestanajunior/case_airbnb/blob/main/Case_Airbnb_Analisando_os_Dados_do_Airbnb_(Rio_de_Janeiro).ipynb\" target=\"_parent\"><img src=\"https://colab.research.google.com/assets/colab-badge.svg\" alt=\"Open In Colab\"/></a>"
      ]
    },
    {
      "cell_type": "markdown",
      "metadata": {
        "id": "0zxQHhIUDF_2"
      },
      "source": [
        "## Obtenção dos Dados\n",
        "\n",
        "Todos os dados usados aqui foram obtidos a partir do site [Inside Airbnb](http://insideairbnb.com/get-the-data.html).\n",
        "\n",
        "Para esta análise exploratória inicial, será baixado apenas o seguinte arquivo:\n",
        "\n",
        "* `listings.csv` - *Summary information and metrics for listings in Rio de Janeiro (good for visualisations).*\n"
      ]
    },
    {
      "cell_type": "code",
      "metadata": {
        "id": "Vhp2wMPgJ6zX"
      },
      "source": [
        "# importar os pacotes necessarios\n",
        "import pandas as pd\n",
        "import matplotlib.pyplot as plt\n",
        "import seaborn as sns\n",
        "\n",
        "%matplotlib inline"
      ],
      "execution_count": 312,
      "outputs": []
    },
    {
      "cell_type": "code",
      "metadata": {
        "id": "tUmoAT8DLQ5T"
      },
      "source": [
        "# importar o arquivo listings.csv para um DataFrame\n",
        "df = pd.read_csv(\"http://data.insideairbnb.com/brazil/rj/rio-de-janeiro/2021-12-24/visualisations/listings.csv\")\n"
      ],
      "execution_count": 313,
      "outputs": []
    },
    {
      "cell_type": "markdown",
      "metadata": {
        "id": "qb5By2nIMS6m"
      },
      "source": [
        "## Análise dos Dados\n",
        "\n",
        "Esta etapa tem por objetivo criar uma consciência situacional inicial e permitir um entendimento de como os dados estão estruturados.\n"
      ]
    },
    {
      "cell_type": "markdown",
      "metadata": {
        "id": "RYgvuebKNg8-"
      },
      "source": [
        "**Dicionário das variáveis**\n",
        "\n",
        "* `id` - Número de id gerado para identificar o imóvel\n",
        "* `name` - Nome da propriedade anunciada\n",
        "* `host_id` - Número de id do anfitrião do  `host_name` - Nome do anfitrião\n",
        "* `neighbourhood_group` - esta coluna não contém nenhum valor válido\n",
        "* `neighbourhood` - nome do bairro\n",
        "* `latitude` - coordenada da latitude da propriedade\n",
        "* `longitude` - coordenada da longitude da propriedade\n",
        "* `room_type` - informa o tipo de quarto que é oferecido\n",
        "* `price` - preço para alugar o imóvel\n",
        "* `minimum_nights` - quantidade mínima de noites para reservar\n",
        "* `number_of_reviews` - número de reviews que a propriedade possui\n",
        "* `last_review` - data do último review\n",
        "* `reviews_per_month` - quantidade de reviews por mês\n",
        "* `calculated_host_listings_count` - quantidade de imóveis do mesmo anfitrião\n",
        "* `availability_365` - número de dias de disponibilidade dentro de 365 dias\n",
        "* `number_of_reviews_ltm` - número de reviews que a propriedade possui nos últimos 12 meses\n",
        "* `license` - A licença/autorização/número de registro do imóvel\n",
        "\n",
        "Antes de iniciar qualquer análise, vamos verificar a cara do nosso *dataset*, analisando as 5 primeiras entradas."
      ]
    },
    {
      "cell_type": "code",
      "metadata": {
        "id": "2iS_dae7YQtO",
        "colab": {
          "base_uri": "https://localhost:8080/",
          "height": 513
        },
        "outputId": "925cd229-0b13-4d79-ae42-b57988834112"
      },
      "source": [
        "# mostrar as 5 primeiras entradas\n",
        "df.head()"
      ],
      "execution_count": 314,
      "outputs": [
        {
          "output_type": "execute_result",
          "data": {
            "text/plain": [
              "      id                                               name  host_id  \\\n",
              "0  17878  Very Nice 2Br in Copacabana w. balcony, fast WiFi    68997   \n",
              "1  24480   Nice and cozy near Ipanema Beach, w/ home office    99249   \n",
              "2  25026          Beautiful Modern Decorated Studio in Copa   102840   \n",
              "3  35636                   Cosy flat close to Ipanema beach   153232   \n",
              "4  35764     COPACABANA SEA BREEZE  -  RIO - 20 X Superhost   153691   \n",
              "\n",
              "                  host_name  neighbourhood_group neighbourhood  latitude  \\\n",
              "0                  Matthias                  NaN    Copacabana    -22.97   \n",
              "1                      Goya                  NaN       Ipanema    -22.98   \n",
              "2                   Viviane                  NaN    Copacabana    -22.98   \n",
              "3                  Patricia                  NaN       Ipanema    -22.99   \n",
              "4  Patricia Miranda & Paulo                  NaN    Copacabana    -22.98   \n",
              "\n",
              "   longitude        room_type  price  minimum_nights  number_of_reviews  \\\n",
              "0     -43.18  Entire home/apt    350               5                267   \n",
              "1     -43.20  Entire home/apt    296               3                 85   \n",
              "2     -43.19  Entire home/apt    387               3                238   \n",
              "3     -43.19  Entire home/apt    172               2                181   \n",
              "4     -43.19  Entire home/apt    260               3                378   \n",
              "\n",
              "  last_review  reviews_per_month  calculated_host_listings_count  \\\n",
              "0  2021-12-03               1.92                               1   \n",
              "1  2018-02-14               0.62                               1   \n",
              "2  2020-02-15               1.69                               1   \n",
              "3  2020-03-15               1.82                               1   \n",
              "4  2021-12-05               2.76                               1   \n",
              "\n",
              "   availability_365  number_of_reviews_ltm  license  \n",
              "0               257                     10      NaN  \n",
              "1               107                      0      NaN  \n",
              "2               206                      0      NaN  \n",
              "3               207                      0      NaN  \n",
              "4                58                     32      NaN  "
            ],
            "text/html": [
              "\n",
              "  <div id=\"df-ba805a60-009d-4ad7-8313-9eac01f38411\">\n",
              "    <div class=\"colab-df-container\">\n",
              "      <div>\n",
              "<style scoped>\n",
              "    .dataframe tbody tr th:only-of-type {\n",
              "        vertical-align: middle;\n",
              "    }\n",
              "\n",
              "    .dataframe tbody tr th {\n",
              "        vertical-align: top;\n",
              "    }\n",
              "\n",
              "    .dataframe thead th {\n",
              "        text-align: right;\n",
              "    }\n",
              "</style>\n",
              "<table border=\"1\" class=\"dataframe\">\n",
              "  <thead>\n",
              "    <tr style=\"text-align: right;\">\n",
              "      <th></th>\n",
              "      <th>id</th>\n",
              "      <th>name</th>\n",
              "      <th>host_id</th>\n",
              "      <th>host_name</th>\n",
              "      <th>neighbourhood_group</th>\n",
              "      <th>neighbourhood</th>\n",
              "      <th>latitude</th>\n",
              "      <th>longitude</th>\n",
              "      <th>room_type</th>\n",
              "      <th>price</th>\n",
              "      <th>minimum_nights</th>\n",
              "      <th>number_of_reviews</th>\n",
              "      <th>last_review</th>\n",
              "      <th>reviews_per_month</th>\n",
              "      <th>calculated_host_listings_count</th>\n",
              "      <th>availability_365</th>\n",
              "      <th>number_of_reviews_ltm</th>\n",
              "      <th>license</th>\n",
              "    </tr>\n",
              "  </thead>\n",
              "  <tbody>\n",
              "    <tr>\n",
              "      <th>0</th>\n",
              "      <td>17878</td>\n",
              "      <td>Very Nice 2Br in Copacabana w. balcony, fast WiFi</td>\n",
              "      <td>68997</td>\n",
              "      <td>Matthias</td>\n",
              "      <td>NaN</td>\n",
              "      <td>Copacabana</td>\n",
              "      <td>-22.97</td>\n",
              "      <td>-43.18</td>\n",
              "      <td>Entire home/apt</td>\n",
              "      <td>350</td>\n",
              "      <td>5</td>\n",
              "      <td>267</td>\n",
              "      <td>2021-12-03</td>\n",
              "      <td>1.92</td>\n",
              "      <td>1</td>\n",
              "      <td>257</td>\n",
              "      <td>10</td>\n",
              "      <td>NaN</td>\n",
              "    </tr>\n",
              "    <tr>\n",
              "      <th>1</th>\n",
              "      <td>24480</td>\n",
              "      <td>Nice and cozy near Ipanema Beach, w/ home office</td>\n",
              "      <td>99249</td>\n",
              "      <td>Goya</td>\n",
              "      <td>NaN</td>\n",
              "      <td>Ipanema</td>\n",
              "      <td>-22.98</td>\n",
              "      <td>-43.20</td>\n",
              "      <td>Entire home/apt</td>\n",
              "      <td>296</td>\n",
              "      <td>3</td>\n",
              "      <td>85</td>\n",
              "      <td>2018-02-14</td>\n",
              "      <td>0.62</td>\n",
              "      <td>1</td>\n",
              "      <td>107</td>\n",
              "      <td>0</td>\n",
              "      <td>NaN</td>\n",
              "    </tr>\n",
              "    <tr>\n",
              "      <th>2</th>\n",
              "      <td>25026</td>\n",
              "      <td>Beautiful Modern Decorated Studio in Copa</td>\n",
              "      <td>102840</td>\n",
              "      <td>Viviane</td>\n",
              "      <td>NaN</td>\n",
              "      <td>Copacabana</td>\n",
              "      <td>-22.98</td>\n",
              "      <td>-43.19</td>\n",
              "      <td>Entire home/apt</td>\n",
              "      <td>387</td>\n",
              "      <td>3</td>\n",
              "      <td>238</td>\n",
              "      <td>2020-02-15</td>\n",
              "      <td>1.69</td>\n",
              "      <td>1</td>\n",
              "      <td>206</td>\n",
              "      <td>0</td>\n",
              "      <td>NaN</td>\n",
              "    </tr>\n",
              "    <tr>\n",
              "      <th>3</th>\n",
              "      <td>35636</td>\n",
              "      <td>Cosy flat close to Ipanema beach</td>\n",
              "      <td>153232</td>\n",
              "      <td>Patricia</td>\n",
              "      <td>NaN</td>\n",
              "      <td>Ipanema</td>\n",
              "      <td>-22.99</td>\n",
              "      <td>-43.19</td>\n",
              "      <td>Entire home/apt</td>\n",
              "      <td>172</td>\n",
              "      <td>2</td>\n",
              "      <td>181</td>\n",
              "      <td>2020-03-15</td>\n",
              "      <td>1.82</td>\n",
              "      <td>1</td>\n",
              "      <td>207</td>\n",
              "      <td>0</td>\n",
              "      <td>NaN</td>\n",
              "    </tr>\n",
              "    <tr>\n",
              "      <th>4</th>\n",
              "      <td>35764</td>\n",
              "      <td>COPACABANA SEA BREEZE  -  RIO - 20 X Superhost</td>\n",
              "      <td>153691</td>\n",
              "      <td>Patricia Miranda &amp; Paulo</td>\n",
              "      <td>NaN</td>\n",
              "      <td>Copacabana</td>\n",
              "      <td>-22.98</td>\n",
              "      <td>-43.19</td>\n",
              "      <td>Entire home/apt</td>\n",
              "      <td>260</td>\n",
              "      <td>3</td>\n",
              "      <td>378</td>\n",
              "      <td>2021-12-05</td>\n",
              "      <td>2.76</td>\n",
              "      <td>1</td>\n",
              "      <td>58</td>\n",
              "      <td>32</td>\n",
              "      <td>NaN</td>\n",
              "    </tr>\n",
              "  </tbody>\n",
              "</table>\n",
              "</div>\n",
              "      <button class=\"colab-df-convert\" onclick=\"convertToInteractive('df-ba805a60-009d-4ad7-8313-9eac01f38411')\"\n",
              "              title=\"Convert this dataframe to an interactive table.\"\n",
              "              style=\"display:none;\">\n",
              "        \n",
              "  <svg xmlns=\"http://www.w3.org/2000/svg\" height=\"24px\"viewBox=\"0 0 24 24\"\n",
              "       width=\"24px\">\n",
              "    <path d=\"M0 0h24v24H0V0z\" fill=\"none\"/>\n",
              "    <path d=\"M18.56 5.44l.94 2.06.94-2.06 2.06-.94-2.06-.94-.94-2.06-.94 2.06-2.06.94zm-11 1L8.5 8.5l.94-2.06 2.06-.94-2.06-.94L8.5 2.5l-.94 2.06-2.06.94zm10 10l.94 2.06.94-2.06 2.06-.94-2.06-.94-.94-2.06-.94 2.06-2.06.94z\"/><path d=\"M17.41 7.96l-1.37-1.37c-.4-.4-.92-.59-1.43-.59-.52 0-1.04.2-1.43.59L10.3 9.45l-7.72 7.72c-.78.78-.78 2.05 0 2.83L4 21.41c.39.39.9.59 1.41.59.51 0 1.02-.2 1.41-.59l7.78-7.78 2.81-2.81c.8-.78.8-2.07 0-2.86zM5.41 20L4 18.59l7.72-7.72 1.47 1.35L5.41 20z\"/>\n",
              "  </svg>\n",
              "      </button>\n",
              "      \n",
              "  <style>\n",
              "    .colab-df-container {\n",
              "      display:flex;\n",
              "      flex-wrap:wrap;\n",
              "      gap: 12px;\n",
              "    }\n",
              "\n",
              "    .colab-df-convert {\n",
              "      background-color: #E8F0FE;\n",
              "      border: none;\n",
              "      border-radius: 50%;\n",
              "      cursor: pointer;\n",
              "      display: none;\n",
              "      fill: #1967D2;\n",
              "      height: 32px;\n",
              "      padding: 0 0 0 0;\n",
              "      width: 32px;\n",
              "    }\n",
              "\n",
              "    .colab-df-convert:hover {\n",
              "      background-color: #E2EBFA;\n",
              "      box-shadow: 0px 1px 2px rgba(60, 64, 67, 0.3), 0px 1px 3px 1px rgba(60, 64, 67, 0.15);\n",
              "      fill: #174EA6;\n",
              "    }\n",
              "\n",
              "    [theme=dark] .colab-df-convert {\n",
              "      background-color: #3B4455;\n",
              "      fill: #D2E3FC;\n",
              "    }\n",
              "\n",
              "    [theme=dark] .colab-df-convert:hover {\n",
              "      background-color: #434B5C;\n",
              "      box-shadow: 0px 1px 3px 1px rgba(0, 0, 0, 0.15);\n",
              "      filter: drop-shadow(0px 1px 2px rgba(0, 0, 0, 0.3));\n",
              "      fill: #FFFFFF;\n",
              "    }\n",
              "  </style>\n",
              "\n",
              "      <script>\n",
              "        const buttonEl =\n",
              "          document.querySelector('#df-ba805a60-009d-4ad7-8313-9eac01f38411 button.colab-df-convert');\n",
              "        buttonEl.style.display =\n",
              "          google.colab.kernel.accessAllowed ? 'block' : 'none';\n",
              "\n",
              "        async function convertToInteractive(key) {\n",
              "          const element = document.querySelector('#df-ba805a60-009d-4ad7-8313-9eac01f38411');\n",
              "          const dataTable =\n",
              "            await google.colab.kernel.invokeFunction('convertToInteractive',\n",
              "                                                     [key], {});\n",
              "          if (!dataTable) return;\n",
              "\n",
              "          const docLinkHtml = 'Like what you see? Visit the ' +\n",
              "            '<a target=\"_blank\" href=https://colab.research.google.com/notebooks/data_table.ipynb>data table notebook</a>'\n",
              "            + ' to learn more about interactive tables.';\n",
              "          element.innerHTML = '';\n",
              "          dataTable['output_type'] = 'display_data';\n",
              "          await google.colab.output.renderOutput(dataTable, element);\n",
              "          const docLink = document.createElement('div');\n",
              "          docLink.innerHTML = docLinkHtml;\n",
              "          element.appendChild(docLink);\n",
              "        }\n",
              "      </script>\n",
              "    </div>\n",
              "  </div>\n",
              "  "
            ]
          },
          "metadata": {},
          "execution_count": 314
        }
      ]
    },
    {
      "cell_type": "markdown",
      "metadata": {
        "id": "6-B_qtEaYEd-"
      },
      "source": [
        "Vamos prosseguir e identificar a quantidade de entradas que nosso conjunto de dados possui e ver os tipos de cada coluna.\n",
        "\n",
        "Este *dataset* que baixamos é a versão \"resumida\" do Airbnb. Na mesma página que baixamos o arquivo `listings.csv`. Há uma versão mais completa com 35847 entradas e 106 variáveis (`listings.csv.gz`)."
      ]
    },
    {
      "cell_type": "code",
      "metadata": {
        "id": "TFRK0tniLV-G",
        "colab": {
          "base_uri": "https://localhost:8080/",
          "height": 398
        },
        "outputId": "1649d2c0-c620-47d5-8042-b6192f1498cc"
      },
      "source": [
        "# identificar o volume de dados do DataFrame\n",
        "print(\"Entradas:\\t {}\".format(df.shape[0]))\n",
        "print(\"Variáveis:\\t {}\\n\".format(df.shape[1]))\n",
        "\n",
        "# verificar as 5 primeiras entradas do dataset\n",
        "display(df.dtypes)"
      ],
      "execution_count": 315,
      "outputs": [
        {
          "output_type": "stream",
          "name": "stdout",
          "text": [
            "Entradas:\t 24549\n",
            "Variáveis:\t 18\n",
            "\n"
          ]
        },
        {
          "output_type": "display_data",
          "data": {
            "text/plain": [
              "id                                  int64\n",
              "name                               object\n",
              "host_id                             int64\n",
              "host_name                          object\n",
              "neighbourhood_group               float64\n",
              "neighbourhood                      object\n",
              "latitude                          float64\n",
              "longitude                         float64\n",
              "room_type                          object\n",
              "price                               int64\n",
              "minimum_nights                      int64\n",
              "number_of_reviews                   int64\n",
              "last_review                        object\n",
              "reviews_per_month                 float64\n",
              "calculated_host_listings_count      int64\n",
              "availability_365                    int64\n",
              "number_of_reviews_ltm               int64\n",
              "license                           float64\n",
              "dtype: object"
            ]
          },
          "metadata": {}
        }
      ]
    },
    {
      "cell_type": "markdown",
      "metadata": {
        "id": "yz1urSUGW9iE"
      },
      "source": [
        "A qualidade de um *dataset* está diretamente relacionada à quantidade de valores ausentes. É importante entender logo no início se esses valores nulos são significativos comparados ao total de entradas.\n",
        "\n",
        "* É possível ver que as colunas `neighbourhood_group` e `license` possuem 100% dos seus valores faltantes. \n",
        "* As variáveis `reviews_per_month` e `last_review` possuem valores nulos em quase 40% das linhas.\n",
        "* As variáveis `name` e `host_name` têm aproximadamente 0,1% dos valores nulos."
      ]
    },
    {
      "cell_type": "code",
      "metadata": {
        "id": "plk2FjbCXOqP",
        "colab": {
          "base_uri": "https://localhost:8080/"
        },
        "outputId": "3308d7c9-4ff1-468b-9e5a-510650fb78a0"
      },
      "source": [
        "# ordenar em ordem decrescente as variáveis por seus valores ausentes\n",
        "(df.isnull().sum() / df.shape[0]).sort_values(ascending=False)"
      ],
      "execution_count": 316,
      "outputs": [
        {
          "output_type": "execute_result",
          "data": {
            "text/plain": [
              "license                           1.00e+00\n",
              "neighbourhood_group               1.00e+00\n",
              "reviews_per_month                 3.65e-01\n",
              "last_review                       3.65e-01\n",
              "name                              8.55e-04\n",
              "host_name                         6.11e-04\n",
              "number_of_reviews                 0.00e+00\n",
              "number_of_reviews_ltm             0.00e+00\n",
              "availability_365                  0.00e+00\n",
              "calculated_host_listings_count    0.00e+00\n",
              "id                                0.00e+00\n",
              "minimum_nights                    0.00e+00\n",
              "room_type                         0.00e+00\n",
              "longitude                         0.00e+00\n",
              "latitude                          0.00e+00\n",
              "neighbourhood                     0.00e+00\n",
              "host_id                           0.00e+00\n",
              "price                             0.00e+00\n",
              "dtype: float64"
            ]
          },
          "metadata": {},
          "execution_count": 316
        }
      ]
    },
    {
      "cell_type": "code",
      "source": [
        ""
      ],
      "metadata": {
        "id": "s7ki6GQEGVIZ"
      },
      "execution_count": 316,
      "outputs": []
    },
    {
      "cell_type": "markdown",
      "metadata": {
        "id": "h6US-6yIBQpB"
      },
      "source": [
        "## Tratando os dados nulos"
      ]
    },
    {
      "cell_type": "markdown",
      "metadata": {
        "id": "9J3ICJwE55Is"
      },
      "source": [
        "Como podemos observar, as colunas *neighbourhood_group* e `license` não possuem nenhum registro.\n",
        "E algumas outras colunas, apresentam valores **NaN**. "
      ]
    },
    {
      "cell_type": "code",
      "metadata": {
        "id": "I2xJ_GCu5nfN",
        "colab": {
          "base_uri": "https://localhost:8080/"
        },
        "outputId": "9d5f9944-6b89-45f4-93a1-59c6260cb3c4"
      },
      "source": [
        "# Contando os valores nulos da base\n",
        "df.isnull().sum().sort_values(ascending=False)"
      ],
      "execution_count": 317,
      "outputs": [
        {
          "output_type": "execute_result",
          "data": {
            "text/plain": [
              "license                           24549\n",
              "neighbourhood_group               24549\n",
              "reviews_per_month                  8961\n",
              "last_review                        8961\n",
              "name                                 21\n",
              "host_name                            15\n",
              "number_of_reviews                     0\n",
              "number_of_reviews_ltm                 0\n",
              "availability_365                      0\n",
              "calculated_host_listings_count        0\n",
              "id                                    0\n",
              "minimum_nights                        0\n",
              "room_type                             0\n",
              "longitude                             0\n",
              "latitude                              0\n",
              "neighbourhood                         0\n",
              "host_id                               0\n",
              "price                                 0\n",
              "dtype: int64"
            ]
          },
          "metadata": {},
          "execution_count": 317
        }
      ]
    },
    {
      "cell_type": "code",
      "metadata": {
        "id": "qBxBuWiZ7bXr"
      },
      "source": [
        "# Dropando as colunas 'neighbourhood_group' e 'license'\n",
        "df.drop(columns=['neighbourhood_group','license'], inplace = True)"
      ],
      "execution_count": 318,
      "outputs": []
    },
    {
      "cell_type": "code",
      "metadata": {
        "id": "AtpBQ-cIRlFC"
      },
      "source": [
        "# Dropando a coluna 'last_review'\n",
        "df.drop(columns='last_review', inplace = True)"
      ],
      "execution_count": 319,
      "outputs": []
    },
    {
      "cell_type": "code",
      "metadata": {
        "id": "iXQWdPVeAwkC"
      },
      "source": [
        "# Preenchendo a coluna reviews_per_month por 0z\n",
        "df['reviews_per_month'].fillna(0, inplace = True)"
      ],
      "execution_count": 320,
      "outputs": []
    },
    {
      "cell_type": "code",
      "metadata": {
        "id": "MhrssDAxELyE"
      },
      "source": [
        "# Preenchendo as colunas name e host_name por Desconhecido\n",
        "df['name'].fillna('Desconhecido', inplace = True)\n",
        "df['host_name'].fillna('Desconhecido', inplace = True)"
      ],
      "execution_count": 321,
      "outputs": []
    },
    {
      "cell_type": "code",
      "source": [
        "# Contando os valores nulos da base\n",
        "df.isnull().sum().sort_values(ascending=False)"
      ],
      "metadata": {
        "colab": {
          "base_uri": "https://localhost:8080/"
        },
        "id": "e5RGHG33HwPl",
        "outputId": "f7fa000c-7761-486e-9ce6-634063632c5c"
      },
      "execution_count": 322,
      "outputs": [
        {
          "output_type": "execute_result",
          "data": {
            "text/plain": [
              "id                                0\n",
              "name                              0\n",
              "host_id                           0\n",
              "host_name                         0\n",
              "neighbourhood                     0\n",
              "latitude                          0\n",
              "longitude                         0\n",
              "room_type                         0\n",
              "price                             0\n",
              "minimum_nights                    0\n",
              "number_of_reviews                 0\n",
              "reviews_per_month                 0\n",
              "calculated_host_listings_count    0\n",
              "availability_365                  0\n",
              "number_of_reviews_ltm             0\n",
              "dtype: int64"
            ]
          },
          "metadata": {},
          "execution_count": 322
        }
      ]
    },
    {
      "cell_type": "markdown",
      "metadata": {
        "id": "iHXvvHIxaoNc"
      },
      "source": [
        "Para identificar a distribuição das variáveis, irei plotar o histograma."
      ]
    },
    {
      "cell_type": "code",
      "metadata": {
        "id": "q2wWSfeRbmBo",
        "colab": {
          "base_uri": "https://localhost:8080/",
          "height": 607
        },
        "outputId": "8751c9cc-e2cf-4628-f470-67dcc18da48b"
      },
      "source": [
        "# plotar o histograma das variáveis numéricas\n",
        "df.hist(bins=15, figsize=(15,10));"
      ],
      "execution_count": 323,
      "outputs": [
        {
          "output_type": "display_data",
          "data": {
            "text/plain": [
              "<Figure size 1080x720 with 12 Axes>"
            ],
            "image/png": "[encoded data removed]"
          },
          "metadata": {
            "needs_background": "light"
          }
        }
      ]
    },
    {
      "cell_type": "markdown",
      "metadata": {
        "id": "ba1xYYTug6bX"
      },
      "source": [
        "Pela distribuição do histograma, é possível verificar indícios da presença de *outliers*. Olhe por exemplo as variáveis `price`, `minimum_nights` e `calculated_host_listings_count`.\n",
        "\n",
        "Os valores não seguem uma distruição, e distorcem toda a representação gráfica. Para confirmar, há duas maneiras rápidas que auxiliam a detecção de *outliers*. São elas:\n",
        "\n",
        "* Resumo estatístico por meio do método `describe()`\n",
        "* Plotar `boxplots` para a variável."
      ]
    },
    {
      "cell_type": "code",
      "metadata": {
        "id": "ff-8gUahLk-C",
        "colab": {
          "base_uri": "https://localhost:8080/",
          "height": 300
        },
        "outputId": "1b758854-55ef-4d58-9ed7-1c59522209da"
      },
      "source": [
        "# ver o resumo estatístico das variáveis numéricas\n",
        "df[['price', 'minimum_nights', 'number_of_reviews', 'reviews_per_month',\n",
        "    'calculated_host_listings_count', 'availability_365', 'number_of_reviews_ltm']].describe()"
      ],
      "execution_count": 324,
      "outputs": [
        {
          "output_type": "execute_result",
          "data": {
            "text/plain": [
              "           price  minimum_nights  number_of_reviews  reviews_per_month  \\\n",
              "count   24549.00        24549.00           24549.00           24549.00   \n",
              "mean     1029.59            5.09              14.51               0.44   \n",
              "std      5403.74           21.21              34.05               0.82   \n",
              "min         0.00            1.00               0.00               0.00   \n",
              "25%       250.00            2.00               0.00               0.00   \n",
              "50%       479.00            3.00               2.00               0.08   \n",
              "75%       900.00            4.00              12.00               0.54   \n",
              "max    650476.00         1000.00             504.00              21.79   \n",
              "\n",
              "       calculated_host_listings_count  availability_365  number_of_reviews_ltm  \n",
              "count                        24549.00          24549.00               24549.00  \n",
              "mean                             7.07            218.95                   3.58  \n",
              "std                             20.05            133.73                   8.35  \n",
              "min                              1.00              0.00                   0.00  \n",
              "25%                              1.00             86.00                   0.00  \n",
              "50%                              1.00            257.00                   0.00  \n",
              "75%                              4.00            355.00                   3.00  \n",
              "max                            176.00            365.00                 267.00  "
            ],
            "text/html": [
              "\n",
              "  <div id=\"df-1a2df3b3-e1cb-4dee-a5db-24e9ea511144\">\n",
              "    <div class=\"colab-df-container\">\n",
              "      <div>\n",
              "<style scoped>\n",
              "    .dataframe tbody tr th:only-of-type {\n",
              "        vertical-align: middle;\n",
              "    }\n",
              "\n",
              "    .dataframe tbody tr th {\n",
              "        vertical-align: top;\n",
              "    }\n",
              "\n",
              "    .dataframe thead th {\n",
              "        text-align: right;\n",
              "    }\n",
              "</style>\n",
              "<table border=\"1\" class=\"dataframe\">\n",
              "  <thead>\n",
              "    <tr style=\"text-align: right;\">\n",
              "      <th></th>\n",
              "      <th>price</th>\n",
              "      <th>minimum_nights</th>\n",
              "      <th>number_of_reviews</th>\n",
              "      <th>reviews_per_month</th>\n",
              "      <th>calculated_host_listings_count</th>\n",
              "      <th>availability_365</th>\n",
              "      <th>number_of_reviews_ltm</th>\n",
              "    </tr>\n",
              "  </thead>\n",
              "  <tbody>\n",
              "    <tr>\n",
              "      <th>count</th>\n",
              "      <td>24549.00</td>\n",
              "      <td>24549.00</td>\n",
              "      <td>24549.00</td>\n",
              "      <td>24549.00</td>\n",
              "      <td>24549.00</td>\n",
              "      <td>24549.00</td>\n",
              "      <td>24549.00</td>\n",
              "    </tr>\n",
              "    <tr>\n",
              "      <th>mean</th>\n",
              "      <td>1029.59</td>\n",
              "      <td>5.09</td>\n",
              "      <td>14.51</td>\n",
              "      <td>0.44</td>\n",
              "      <td>7.07</td>\n",
              "      <td>218.95</td>\n",
              "      <td>3.58</td>\n",
              "    </tr>\n",
              "    <tr>\n",
              "      <th>std</th>\n",
              "      <td>5403.74</td>\n",
              "      <td>21.21</td>\n",
              "      <td>34.05</td>\n",
              "      <td>0.82</td>\n",
              "      <td>20.05</td>\n",
              "      <td>133.73</td>\n",
              "      <td>8.35</td>\n",
              "    </tr>\n",
              "    <tr>\n",
              "      <th>min</th>\n",
              "      <td>0.00</td>\n",
              "      <td>1.00</td>\n",
              "      <td>0.00</td>\n",
              "      <td>0.00</td>\n",
              "      <td>1.00</td>\n",
              "      <td>0.00</td>\n",
              "      <td>0.00</td>\n",
              "    </tr>\n",
              "    <tr>\n",
              "      <th>25%</th>\n",
              "      <td>250.00</td>\n",
              "      <td>2.00</td>\n",
              "      <td>0.00</td>\n",
              "      <td>0.00</td>\n",
              "      <td>1.00</td>\n",
              "      <td>86.00</td>\n",
              "      <td>0.00</td>\n",
              "    </tr>\n",
              "    <tr>\n",
              "      <th>50%</th>\n",
              "      <td>479.00</td>\n",
              "      <td>3.00</td>\n",
              "      <td>2.00</td>\n",
              "      <td>0.08</td>\n",
              "      <td>1.00</td>\n",
              "      <td>257.00</td>\n",
              "      <td>0.00</td>\n",
              "    </tr>\n",
              "    <tr>\n",
              "      <th>75%</th>\n",
              "      <td>900.00</td>\n",
              "      <td>4.00</td>\n",
              "      <td>12.00</td>\n",
              "      <td>0.54</td>\n",
              "      <td>4.00</td>\n",
              "      <td>355.00</td>\n",
              "      <td>3.00</td>\n",
              "    </tr>\n",
              "    <tr>\n",
              "      <th>max</th>\n",
              "      <td>650476.00</td>\n",
              "      <td>1000.00</td>\n",
              "      <td>504.00</td>\n",
              "      <td>21.79</td>\n",
              "      <td>176.00</td>\n",
              "      <td>365.00</td>\n",
              "      <td>267.00</td>\n",
              "    </tr>\n",
              "  </tbody>\n",
              "</table>\n",
              "</div>\n",
              "      <button class=\"colab-df-convert\" onclick=\"convertToInteractive('df-1a2df3b3-e1cb-4dee-a5db-24e9ea511144')\"\n",
              "              title=\"Convert this dataframe to an interactive table.\"\n",
              "              style=\"display:none;\">\n",
              "        \n",
              "  <svg xmlns=\"http://www.w3.org/2000/svg\" height=\"24px\"viewBox=\"0 0 24 24\"\n",
              "       width=\"24px\">\n",
              "    <path d=\"M0 0h24v24H0V0z\" fill=\"none\"/>\n",
              "    <path d=\"M18.56 5.44l.94 2.06.94-2.06 2.06-.94-2.06-.94-.94-2.06-.94 2.06-2.06.94zm-11 1L8.5 8.5l.94-2.06 2.06-.94-2.06-.94L8.5 2.5l-.94 2.06-2.06.94zm10 10l.94 2.06.94-2.06 2.06-.94-2.06-.94-.94-2.06-.94 2.06-2.06.94z\"/><path d=\"M17.41 7.96l-1.37-1.37c-.4-.4-.92-.59-1.43-.59-.52 0-1.04.2-1.43.59L10.3 9.45l-7.72 7.72c-.78.78-.78 2.05 0 2.83L4 21.41c.39.39.9.59 1.41.59.51 0 1.02-.2 1.41-.59l7.78-7.78 2.81-2.81c.8-.78.8-2.07 0-2.86zM5.41 20L4 18.59l7.72-7.72 1.47 1.35L5.41 20z\"/>\n",
              "  </svg>\n",
              "      </button>\n",
              "      \n",
              "  <style>\n",
              "    .colab-df-container {\n",
              "      display:flex;\n",
              "      flex-wrap:wrap;\n",
              "      gap: 12px;\n",
              "    }\n",
              "\n",
              "    .colab-df-convert {\n",
              "      background-color: #E8F0FE;\n",
              "      border: none;\n",
              "      border-radius: 50%;\n",
              "      cursor: pointer;\n",
              "      display: none;\n",
              "      fill: #1967D2;\n",
              "      height: 32px;\n",
              "      padding: 0 0 0 0;\n",
              "      width: 32px;\n",
              "    }\n",
              "\n",
              "    .colab-df-convert:hover {\n",
              "      background-color: #E2EBFA;\n",
              "      box-shadow: 0px 1px 2px rgba(60, 64, 67, 0.3), 0px 1px 3px 1px rgba(60, 64, 67, 0.15);\n",
              "      fill: #174EA6;\n",
              "    }\n",
              "\n",
              "    [theme=dark] .colab-df-convert {\n",
              "      background-color: #3B4455;\n",
              "      fill: #D2E3FC;\n",
              "    }\n",
              "\n",
              "    [theme=dark] .colab-df-convert:hover {\n",
              "      background-color: #434B5C;\n",
              "      box-shadow: 0px 1px 3px 1px rgba(0, 0, 0, 0.15);\n",
              "      filter: drop-shadow(0px 1px 2px rgba(0, 0, 0, 0.3));\n",
              "      fill: #FFFFFF;\n",
              "    }\n",
              "  </style>\n",
              "\n",
              "      <script>\n",
              "        const buttonEl =\n",
              "          document.querySelector('#df-1a2df3b3-e1cb-4dee-a5db-24e9ea511144 button.colab-df-convert');\n",
              "        buttonEl.style.display =\n",
              "          google.colab.kernel.accessAllowed ? 'block' : 'none';\n",
              "\n",
              "        async function convertToInteractive(key) {\n",
              "          const element = document.querySelector('#df-1a2df3b3-e1cb-4dee-a5db-24e9ea511144');\n",
              "          const dataTable =\n",
              "            await google.colab.kernel.invokeFunction('convertToInteractive',\n",
              "                                                     [key], {});\n",
              "          if (!dataTable) return;\n",
              "\n",
              "          const docLinkHtml = 'Like what you see? Visit the ' +\n",
              "            '<a target=\"_blank\" href=https://colab.research.google.com/notebooks/data_table.ipynb>data table notebook</a>'\n",
              "            + ' to learn more about interactive tables.';\n",
              "          element.innerHTML = '';\n",
              "          dataTable['output_type'] = 'display_data';\n",
              "          await google.colab.output.renderOutput(dataTable, element);\n",
              "          const docLink = document.createElement('div');\n",
              "          docLink.innerHTML = docLinkHtml;\n",
              "          element.appendChild(docLink);\n",
              "        }\n",
              "      </script>\n",
              "    </div>\n",
              "  </div>\n",
              "  "
            ]
          },
          "metadata": {},
          "execution_count": 324
        }
      ]
    },
    {
      "cell_type": "markdown",
      "metadata": {
        "id": "zAx_GIAzhZTn"
      },
      "source": [
        "Olhando o resumo estatístico acima, podemos confirmar algumas hipóteses como:\n",
        "\n",
        "* A variável `price` possui 75% do valor abaixo de 900, porém seu valor máximo é 650476.\n",
        "* A quantidade mínima de noites (`minimum_nights`) está acima de 365 dias no ano.\n",
        "\n",
        "#### Boxplot para minimum_nights\n"
      ]
    },
    {
      "cell_type": "code",
      "metadata": {
        "id": "_-X_Z58of_dC",
        "colab": {
          "base_uri": "https://localhost:8080/",
          "height": 263
        },
        "outputId": "cdbcdc66-3bd6-4005-9409-f2ca94f0a8ab"
      },
      "source": [
        "# minimum_nights\n",
        "df.minimum_nights.plot(kind='box', vert=False, figsize=(15, 3))\n",
        "plt.show()\n",
        "\n",
        "# ver quantidade de valores acima de 30 dias para minimum_nights\n",
        "print(\"minimum_nights: valores acima de 30:\")\n",
        "print(\"{} entradas\".format(len(df[df.minimum_nights > 30])))\n",
        "print(\"{:.4f}%\".format((len(df[df.minimum_nights > 30]) / df.shape[0])*100))"
      ],
      "execution_count": 325,
      "outputs": [
        {
          "output_type": "display_data",
          "data": {
            "text/plain": [
              "<Figure size 1080x216 with 1 Axes>"
            ],
            "image/png": "[encoded data removed]"
          },
          "metadata": {
            "needs_background": "light"
          }
        },
        {
          "output_type": "stream",
          "name": "stdout",
          "text": [
            "minimum_nights: valores acima de 30:\n",
            "250 entradas\n",
            "1.0184%\n"
          ]
        }
      ]
    },
    {
      "cell_type": "markdown",
      "metadata": {
        "id": "R1G8lOfGxfW0"
      },
      "source": [
        "#### Boxplot para price"
      ]
    },
    {
      "cell_type": "code",
      "metadata": {
        "id": "uQhJ229OkX_o",
        "colab": {
          "base_uri": "https://localhost:8080/",
          "height": 281
        },
        "outputId": "236e4caa-0842-4292-f39a-14b3820ca4ed"
      },
      "source": [
        "# price\n",
        "df.price.plot(kind='box', vert=False, figsize=(15, 3),)\n",
        "plt.show()\n",
        "\n",
        "# ver quantidade de valores acima de 1500 para price\n",
        "print(\"\\nprice: valores acima de 1500\")\n",
        "print(\"{} entradas\".format(len(df[df.price > 1500])))\n",
        "print(\"{:.4f}%\".format((len(df[df.price > 1500]) / df.shape[0])*100))\n",
        "\n",
        "# df.price.plot(kind='box', vert=False, xlim=(0,1300), figsize=(15,3));"
      ],
      "execution_count": 326,
      "outputs": [
        {
          "output_type": "display_data",
          "data": {
            "text/plain": [
              "<Figure size 1080x216 with 1 Axes>"
            ],
            "image/png": "[encoded data removed]"
          },
          "metadata": {
            "needs_background": "light"
          }
        },
        {
          "output_type": "stream",
          "name": "stdout",
          "text": [
            "\n",
            "price: valores acima de 1500\n",
            "2877 entradas\n",
            "11.7194%\n"
          ]
        }
      ]
    },
    {
      "cell_type": "markdown",
      "metadata": {
        "id": "TfxQ1PITFc5Q"
      },
      "source": [
        "#### Histogramas sem *outliers*\n",
        "\n",
        "Já que identificamos *outliers* nas variáveis `price` e `minimum_nights`, vamos agora limpar o *DataFrame* delas e plotar novamente o histograma."
      ]
    },
    {
      "cell_type": "code",
      "metadata": {
        "id": "67JxJ6n_FrTn",
        "colab": {
          "base_uri": "https://localhost:8080/",
          "height": 607
        },
        "outputId": "a09292c1-e25a-45f1-8a8d-cc1adb45962a"
      },
      "source": [
        "# remover os *outliers* em um novo DataFrame\n",
        "df_clean = df.copy()\n",
        "df_clean.drop(df_clean[df_clean.price > 1500].index, axis=0, inplace=True)\n",
        "df_clean.drop(df_clean[df_clean.minimum_nights > 30].index, axis=0, inplace=True)\n",
        "\n",
        "# plotar o histograma para as variáveis numéricas\n",
        "df_clean.hist(bins=15, figsize=(15,10));"
      ],
      "execution_count": 327,
      "outputs": [
        {
          "output_type": "display_data",
          "data": {
            "text/plain": [
              "<Figure size 1080x720 with 12 Axes>"
            ],
            "image/png": "[encoded data removed]"
          },
          "metadata": {
            "needs_background": "light"
          }
        }
      ]
    },
    {
      "cell_type": "markdown",
      "metadata": {
        "id": "IXn2oIo5qx-w"
      },
      "source": [
        "Correlação significa que existe uma relação entre duas coisas. No nosso contexto, estamos buscando relação ou semelhança entre duas variáveis.\n",
        "\n",
        "Essa relação pode ser medida, e é função do coeficiente de correlação estabelecer qual a intensidade dela. Para identificar as correlações existentes entre as variáveis de interesse, vou:\n",
        "\n",
        "* Criar uma matriz de correlação\n",
        "* Gerar um *heatmap* a partir dessa matriz, usando a biblioteca `seaborn`"
      ]
    },
    {
      "cell_type": "code",
      "metadata": {
        "id": "x2ayzBajqxyd",
        "colab": {
          "base_uri": "https://localhost:8080/",
          "height": 313
        },
        "outputId": "5a01ef4d-fb64-4470-e69e-3ea3dd286abd"
      },
      "source": [
        "# criar uma matriz de correlação\n",
        "corr = df_clean[['price', 'minimum_nights', 'number_of_reviews', 'reviews_per_month',\n",
        "    'calculated_host_listings_count', 'availability_365', 'number_of_reviews_ltm']].corr()\n",
        "\n",
        "display(corr)"
      ],
      "execution_count": 328,
      "outputs": [
        {
          "output_type": "display_data",
          "data": {
            "text/plain": [
              "                                price  minimum_nights  number_of_reviews  \\\n",
              "price                            1.00        7.02e-02              -0.03   \n",
              "minimum_nights                   0.07        1.00e+00              -0.08   \n",
              "number_of_reviews               -0.03       -7.55e-02               1.00   \n",
              "reviews_per_month               -0.03       -1.33e-01               0.62   \n",
              "calculated_host_listings_count   0.17       -5.39e-02              -0.03   \n",
              "availability_365                 0.04       -2.50e-03              -0.14   \n",
              "number_of_reviews_ltm           -0.01       -1.14e-01               0.66   \n",
              "\n",
              "                                reviews_per_month  \\\n",
              "price                                   -3.33e-02   \n",
              "minimum_nights                          -1.33e-01   \n",
              "number_of_reviews                        6.17e-01   \n",
              "reviews_per_month                        1.00e+00   \n",
              "calculated_host_listings_count           6.16e-03   \n",
              "availability_365                        -1.78e-01   \n",
              "number_of_reviews_ltm                    8.09e-01   \n",
              "\n",
              "                                calculated_host_listings_count  \\\n",
              "price                                                 1.67e-01   \n",
              "minimum_nights                                       -5.39e-02   \n",
              "number_of_reviews                                    -3.34e-02   \n",
              "reviews_per_month                                     6.16e-03   \n",
              "calculated_host_listings_count                        1.00e+00   \n",
              "availability_365                                      4.62e-03   \n",
              "number_of_reviews_ltm                                 3.44e-03   \n",
              "\n",
              "                                availability_365  number_of_reviews_ltm  \n",
              "price                                   4.14e-02              -1.34e-02  \n",
              "minimum_nights                         -2.50e-03              -1.14e-01  \n",
              "number_of_reviews                      -1.38e-01               6.55e-01  \n",
              "reviews_per_month                      -1.78e-01               8.09e-01  \n",
              "calculated_host_listings_count          4.62e-03               3.44e-03  \n",
              "availability_365                        1.00e+00              -1.54e-01  \n",
              "number_of_reviews_ltm                  -1.54e-01               1.00e+00  "
            ],
            "text/html": [
              "\n",
              "  <div id=\"df-a46f580f-31d1-4181-93f7-91c0d403e461\">\n",
              "    <div class=\"colab-df-container\">\n",
              "      <div>\n",
              "<style scoped>\n",
              "    .dataframe tbody tr th:only-of-type {\n",
              "        vertical-align: middle;\n",
              "    }\n",
              "\n",
              "    .dataframe tbody tr th {\n",
              "        vertical-align: top;\n",
              "    }\n",
              "\n",
              "    .dataframe thead th {\n",
              "        text-align: right;\n",
              "    }\n",
              "</style>\n",
              "<table border=\"1\" class=\"dataframe\">\n",
              "  <thead>\n",
              "    <tr style=\"text-align: right;\">\n",
              "      <th></th>\n",
              "      <th>price</th>\n",
              "      <th>minimum_nights</th>\n",
              "      <th>number_of_reviews</th>\n",
              "      <th>reviews_per_month</th>\n",
              "      <th>calculated_host_listings_count</th>\n",
              "      <th>availability_365</th>\n",
              "      <th>number_of_reviews_ltm</th>\n",
              "    </tr>\n",
              "  </thead>\n",
              "  <tbody>\n",
              "    <tr>\n",
              "      <th>price</th>\n",
              "      <td>1.00</td>\n",
              "      <td>7.02e-02</td>\n",
              "      <td>-0.03</td>\n",
              "      <td>-3.33e-02</td>\n",
              "      <td>1.67e-01</td>\n",
              "      <td>4.14e-02</td>\n",
              "      <td>-1.34e-02</td>\n",
              "    </tr>\n",
              "    <tr>\n",
              "      <th>minimum_nights</th>\n",
              "      <td>0.07</td>\n",
              "      <td>1.00e+00</td>\n",
              "      <td>-0.08</td>\n",
              "      <td>-1.33e-01</td>\n",
              "      <td>-5.39e-02</td>\n",
              "      <td>-2.50e-03</td>\n",
              "      <td>-1.14e-01</td>\n",
              "    </tr>\n",
              "    <tr>\n",
              "      <th>number_of_reviews</th>\n",
              "      <td>-0.03</td>\n",
              "      <td>-7.55e-02</td>\n",
              "      <td>1.00</td>\n",
              "      <td>6.17e-01</td>\n",
              "      <td>-3.34e-02</td>\n",
              "      <td>-1.38e-01</td>\n",
              "      <td>6.55e-01</td>\n",
              "    </tr>\n",
              "    <tr>\n",
              "      <th>reviews_per_month</th>\n",
              "      <td>-0.03</td>\n",
              "      <td>-1.33e-01</td>\n",
              "      <td>0.62</td>\n",
              "      <td>1.00e+00</td>\n",
              "      <td>6.16e-03</td>\n",
              "      <td>-1.78e-01</td>\n",
              "      <td>8.09e-01</td>\n",
              "    </tr>\n",
              "    <tr>\n",
              "      <th>calculated_host_listings_count</th>\n",
              "      <td>0.17</td>\n",
              "      <td>-5.39e-02</td>\n",
              "      <td>-0.03</td>\n",
              "      <td>6.16e-03</td>\n",
              "      <td>1.00e+00</td>\n",
              "      <td>4.62e-03</td>\n",
              "      <td>3.44e-03</td>\n",
              "    </tr>\n",
              "    <tr>\n",
              "      <th>availability_365</th>\n",
              "      <td>0.04</td>\n",
              "      <td>-2.50e-03</td>\n",
              "      <td>-0.14</td>\n",
              "      <td>-1.78e-01</td>\n",
              "      <td>4.62e-03</td>\n",
              "      <td>1.00e+00</td>\n",
              "      <td>-1.54e-01</td>\n",
              "    </tr>\n",
              "    <tr>\n",
              "      <th>number_of_reviews_ltm</th>\n",
              "      <td>-0.01</td>\n",
              "      <td>-1.14e-01</td>\n",
              "      <td>0.66</td>\n",
              "      <td>8.09e-01</td>\n",
              "      <td>3.44e-03</td>\n",
              "      <td>-1.54e-01</td>\n",
              "      <td>1.00e+00</td>\n",
              "    </tr>\n",
              "  </tbody>\n",
              "</table>\n",
              "</div>\n",
              "      <button class=\"colab-df-convert\" onclick=\"convertToInteractive('df-a46f580f-31d1-4181-93f7-91c0d403e461')\"\n",
              "              title=\"Convert this dataframe to an interactive table.\"\n",
              "              style=\"display:none;\">\n",
              "        \n",
              "  <svg xmlns=\"http://www.w3.org/2000/svg\" height=\"24px\"viewBox=\"0 0 24 24\"\n",
              "       width=\"24px\">\n",
              "    <path d=\"M0 0h24v24H0V0z\" fill=\"none\"/>\n",
              "    <path d=\"M18.56 5.44l.94 2.06.94-2.06 2.06-.94-2.06-.94-.94-2.06-.94 2.06-2.06.94zm-11 1L8.5 8.5l.94-2.06 2.06-.94-2.06-.94L8.5 2.5l-.94 2.06-2.06.94zm10 10l.94 2.06.94-2.06 2.06-.94-2.06-.94-.94-2.06-.94 2.06-2.06.94z\"/><path d=\"M17.41 7.96l-1.37-1.37c-.4-.4-.92-.59-1.43-.59-.52 0-1.04.2-1.43.59L10.3 9.45l-7.72 7.72c-.78.78-.78 2.05 0 2.83L4 21.41c.39.39.9.59 1.41.59.51 0 1.02-.2 1.41-.59l7.78-7.78 2.81-2.81c.8-.78.8-2.07 0-2.86zM5.41 20L4 18.59l7.72-7.72 1.47 1.35L5.41 20z\"/>\n",
              "  </svg>\n",
              "      </button>\n",
              "      \n",
              "  <style>\n",
              "    .colab-df-container {\n",
              "      display:flex;\n",
              "      flex-wrap:wrap;\n",
              "      gap: 12px;\n",
              "    }\n",
              "\n",
              "    .colab-df-convert {\n",
              "      background-color: #E8F0FE;\n",
              "      border: none;\n",
              "      border-radius: 50%;\n",
              "      cursor: pointer;\n",
              "      display: none;\n",
              "      fill: #1967D2;\n",
              "      height: 32px;\n",
              "      padding: 0 0 0 0;\n",
              "      width: 32px;\n",
              "    }\n",
              "\n",
              "    .colab-df-convert:hover {\n",
              "      background-color: #E2EBFA;\n",
              "      box-shadow: 0px 1px 2px rgba(60, 64, 67, 0.3), 0px 1px 3px 1px rgba(60, 64, 67, 0.15);\n",
              "      fill: #174EA6;\n",
              "    }\n",
              "\n",
              "    [theme=dark] .colab-df-convert {\n",
              "      background-color: #3B4455;\n",
              "      fill: #D2E3FC;\n",
              "    }\n",
              "\n",
              "    [theme=dark] .colab-df-convert:hover {\n",
              "      background-color: #434B5C;\n",
              "      box-shadow: 0px 1px 3px 1px rgba(0, 0, 0, 0.15);\n",
              "      filter: drop-shadow(0px 1px 2px rgba(0, 0, 0, 0.3));\n",
              "      fill: #FFFFFF;\n",
              "    }\n",
              "  </style>\n",
              "\n",
              "      <script>\n",
              "        const buttonEl =\n",
              "          document.querySelector('#df-a46f580f-31d1-4181-93f7-91c0d403e461 button.colab-df-convert');\n",
              "        buttonEl.style.display =\n",
              "          google.colab.kernel.accessAllowed ? 'block' : 'none';\n",
              "\n",
              "        async function convertToInteractive(key) {\n",
              "          const element = document.querySelector('#df-a46f580f-31d1-4181-93f7-91c0d403e461');\n",
              "          const dataTable =\n",
              "            await google.colab.kernel.invokeFunction('convertToInteractive',\n",
              "                                                     [key], {});\n",
              "          if (!dataTable) return;\n",
              "\n",
              "          const docLinkHtml = 'Like what you see? Visit the ' +\n",
              "            '<a target=\"_blank\" href=https://colab.research.google.com/notebooks/data_table.ipynb>data table notebook</a>'\n",
              "            + ' to learn more about interactive tables.';\n",
              "          element.innerHTML = '';\n",
              "          dataTable['output_type'] = 'display_data';\n",
              "          await google.colab.output.renderOutput(dataTable, element);\n",
              "          const docLink = document.createElement('div');\n",
              "          docLink.innerHTML = docLinkHtml;\n",
              "          element.appendChild(docLink);\n",
              "        }\n",
              "      </script>\n",
              "    </div>\n",
              "  </div>\n",
              "  "
            ]
          },
          "metadata": {}
        }
      ]
    },
    {
      "cell_type": "code",
      "metadata": {
        "id": "91UujDr6ueqE",
        "colab": {
          "base_uri": "https://localhost:8080/",
          "height": 411
        },
        "outputId": "169dca96-8636-496a-dc72-d9314ce56c5d"
      },
      "source": [
        "sns.heatmap(corr, cmap='RdBu', fmt='.2f', square=True, linecolor='white', annot=True);"
      ],
      "execution_count": 329,
      "outputs": [
        {
          "output_type": "display_data",
          "data": {
            "text/plain": [
              "<Figure size 432x288 with 2 Axes>"
            ],
            "image/png": "[encoded data removed]"
          },
          "metadata": {
            "needs_background": "light"
          }
        }
      ]
    },
    {
      "cell_type": "markdown",
      "metadata": {
        "id": "7b6RMWpuHKN-"
      },
      "source": [
        "É possível perceber que as maiores correlações positivas são entre as variáveis referentes aos reviews, enquanto as outras variave´si apresentam relações negativamentes baixas.\n",
        "\n",
        "A coluna da variável `room_type` indica o tipo de locação que está anunciada no Airbnb. Se você já alugou no site, sabe que existem opções de apartamentos/casas inteiras, apenas o aluguel de um quarto ou mesmo dividir o quarto com outras pessoas.\n",
        "\n",
        "Vamos contar a quantidade de ocorrências de cada tipo de aluguel, usando o método `value_counts()`."
      ]
    },
    {
      "cell_type": "code",
      "metadata": {
        "id": "ueLPNWvPHgfB",
        "colab": {
          "base_uri": "https://localhost:8080/"
        },
        "outputId": "990a9886-4253-444c-96d1-877a3f28f52d"
      },
      "source": [
        "# mostrar a quantidade de cada tipo de imóvel disponível\n",
        "df_clean.room_type.value_counts()"
      ],
      "execution_count": 330,
      "outputs": [
        {
          "output_type": "execute_result",
          "data": {
            "text/plain": [
              "Entire home/apt    15724\n",
              "Private room        5197\n",
              "Shared room          478\n",
              "Hotel room            67\n",
              "Name: room_type, dtype: int64"
            ]
          },
          "metadata": {},
          "execution_count": 330
        }
      ]
    },
    {
      "cell_type": "code",
      "metadata": {
        "id": "EvwoO-XAHhIm",
        "colab": {
          "base_uri": "https://localhost:8080/"
        },
        "outputId": "845d6770-e23c-47f6-d643-51799426512c"
      },
      "source": [
        "# mostrar a porcentagem de cada tipo de imóvel disponível\n",
        "df_clean.room_type.value_counts() / df_clean.shape[0]"
      ],
      "execution_count": 331,
      "outputs": [
        {
          "output_type": "execute_result",
          "data": {
            "text/plain": [
              "Entire home/apt    7.33e-01\n",
              "Private room       2.42e-01\n",
              "Shared room        2.23e-02\n",
              "Hotel room         3.12e-03\n",
              "Name: room_type, dtype: float64"
            ]
          },
          "metadata": {},
          "execution_count": 331
        }
      ]
    },
    {
      "cell_type": "markdown",
      "metadata": {
        "id": "MFa5NbnLJMcd"
      },
      "source": [
        "Uma maneira de se verificar uma variável em função da outra é usando `groupby()`. No caso, queremos comparar os bairros (*neighbourhoods*) a partir do preço de locação."
      ]
    },
    {
      "cell_type": "code",
      "metadata": {
        "id": "mygcB3iuIi0J",
        "colab": {
          "base_uri": "https://localhost:8080/"
        },
        "outputId": "22d6a36d-dd2b-41a4-eced-e43661da84e4"
      },
      "source": [
        "df_clean.groupby(['neighbourhood']).price.mean().sort_values(ascending=False)[:10]"
      ],
      "execution_count": 332,
      "outputs": [
        {
          "output_type": "execute_result",
          "data": {
            "text/plain": [
              "neighbourhood\n",
              "Caju                 1284.00\n",
              "Grumari              1079.33\n",
              "Vaz Lobo              859.50\n",
              "Leblon                729.36\n",
              "Manguinhos            684.50\n",
              "Ipanema               683.85\n",
              "Lagoa                 677.35\n",
              "Rocha Miranda         660.50\n",
              "Pavuna                636.33\n",
              "Alto da Boa Vista     611.76\n",
              "Name: price, dtype: float64"
            ]
          },
          "metadata": {},
          "execution_count": 332
        }
      ]
    },
    {
      "cell_type": "markdown",
      "metadata": {
        "id": "wTt-H7G0Q87F"
      },
      "source": [
        "Acima, vemos que bairros como Caju, Grumaria, Vaz Lobo, Manguinhos, estão com média de preço superior a de lugares como Leblon, Barra da Tijuca e Lagoa.\n",
        "\n",
        "Uma pessoa que não conhecesse o Rio poderia apresentar esses resultados sem se questionar. Só para dar um único exemplo de como uma amostra pode ser não-representativa, veja quantas entradas há para o Vaz Lobo."
      ]
    },
    {
      "cell_type": "code",
      "metadata": {
        "id": "07RIuc0ERlVc",
        "colab": {
          "base_uri": "https://localhost:8080/",
          "height": 298
        },
        "outputId": "1c127117-6b3c-4f52-ab90-d222c5624e10"
      },
      "source": [
        "# ver quantidade de imóveis no Vaz Lobo\n",
        "print(df_clean[df_clean.neighbourhood == \"Vaz Lobo\"].shape)\n",
        "\n",
        "# ver as 3 entradas do Complexo do Alemão\n",
        "df_clean[df_clean.neighbourhood == \"Vaz Lobo\"]"
      ],
      "execution_count": 333,
      "outputs": [
        {
          "output_type": "stream",
          "name": "stdout",
          "text": [
            "(2, 15)\n"
          ]
        },
        {
          "output_type": "execute_result",
          "data": {
            "text/plain": [
              "             id                                 name    host_id  \\\n",
              "7793   14221134  casa  colonial  3  quartos, garagem   86402266   \n",
              "16810  42012781                        Casas flegler  332881900   \n",
              "\n",
              "                   host_name neighbourhood  latitude  longitude  \\\n",
              "7793                   Lucia      Vaz Lobo    -22.86     -43.33   \n",
              "16810  Igor Flegler De Souza      Vaz Lobo    -22.86     -43.32   \n",
              "\n",
              "             room_type  price  minimum_nights  number_of_reviews  \\\n",
              "7793   Entire home/apt   1419              15                  0   \n",
              "16810     Private room    300               1                  0   \n",
              "\n",
              "       reviews_per_month  calculated_host_listings_count  availability_365  \\\n",
              "7793                 0.0                               1               365   \n",
              "16810                0.0                               1               362   \n",
              "\n",
              "       number_of_reviews_ltm  \n",
              "7793                       0  \n",
              "16810                      0  "
            ],
            "text/html": [
              "\n",
              "  <div id=\"df-b53799a5-325a-4c01-ab43-cb7149937127\">\n",
              "    <div class=\"colab-df-container\">\n",
              "      <div>\n",
              "<style scoped>\n",
              "    .dataframe tbody tr th:only-of-type {\n",
              "        vertical-align: middle;\n",
              "    }\n",
              "\n",
              "    .dataframe tbody tr th {\n",
              "        vertical-align: top;\n",
              "    }\n",
              "\n",
              "    .dataframe thead th {\n",
              "        text-align: right;\n",
              "    }\n",
              "</style>\n",
              "<table border=\"1\" class=\"dataframe\">\n",
              "  <thead>\n",
              "    <tr style=\"text-align: right;\">\n",
              "      <th></th>\n",
              "      <th>id</th>\n",
              "      <th>name</th>\n",
              "      <th>host_id</th>\n",
              "      <th>host_name</th>\n",
              "      <th>neighbourhood</th>\n",
              "      <th>latitude</th>\n",
              "      <th>longitude</th>\n",
              "      <th>room_type</th>\n",
              "      <th>price</th>\n",
              "      <th>minimum_nights</th>\n",
              "      <th>number_of_reviews</th>\n",
              "      <th>reviews_per_month</th>\n",
              "      <th>calculated_host_listings_count</th>\n",
              "      <th>availability_365</th>\n",
              "      <th>number_of_reviews_ltm</th>\n",
              "    </tr>\n",
              "  </thead>\n",
              "  <tbody>\n",
              "    <tr>\n",
              "      <th>7793</th>\n",
              "      <td>14221134</td>\n",
              "      <td>casa  colonial  3  quartos, garagem</td>\n",
              "      <td>86402266</td>\n",
              "      <td>Lucia</td>\n",
              "      <td>Vaz Lobo</td>\n",
              "      <td>-22.86</td>\n",
              "      <td>-43.33</td>\n",
              "      <td>Entire home/apt</td>\n",
              "      <td>1419</td>\n",
              "      <td>15</td>\n",
              "      <td>0</td>\n",
              "      <td>0.0</td>\n",
              "      <td>1</td>\n",
              "      <td>365</td>\n",
              "      <td>0</td>\n",
              "    </tr>\n",
              "    <tr>\n",
              "      <th>16810</th>\n",
              "      <td>42012781</td>\n",
              "      <td>Casas flegler</td>\n",
              "      <td>332881900</td>\n",
              "      <td>Igor Flegler De Souza</td>\n",
              "      <td>Vaz Lobo</td>\n",
              "      <td>-22.86</td>\n",
              "      <td>-43.32</td>\n",
              "      <td>Private room</td>\n",
              "      <td>300</td>\n",
              "      <td>1</td>\n",
              "      <td>0</td>\n",
              "      <td>0.0</td>\n",
              "      <td>1</td>\n",
              "      <td>362</td>\n",
              "      <td>0</td>\n",
              "    </tr>\n",
              "  </tbody>\n",
              "</table>\n",
              "</div>\n",
              "      <button class=\"colab-df-convert\" onclick=\"convertToInteractive('df-b53799a5-325a-4c01-ab43-cb7149937127')\"\n",
              "              title=\"Convert this dataframe to an interactive table.\"\n",
              "              style=\"display:none;\">\n",
              "        \n",
              "  <svg xmlns=\"http://www.w3.org/2000/svg\" height=\"24px\"viewBox=\"0 0 24 24\"\n",
              "       width=\"24px\">\n",
              "    <path d=\"M0 0h24v24H0V0z\" fill=\"none\"/>\n",
              "    <path d=\"M18.56 5.44l.94 2.06.94-2.06 2.06-.94-2.06-.94-.94-2.06-.94 2.06-2.06.94zm-11 1L8.5 8.5l.94-2.06 2.06-.94-2.06-.94L8.5 2.5l-.94 2.06-2.06.94zm10 10l.94 2.06.94-2.06 2.06-.94-2.06-.94-.94-2.06-.94 2.06-2.06.94z\"/><path d=\"M17.41 7.96l-1.37-1.37c-.4-.4-.92-.59-1.43-.59-.52 0-1.04.2-1.43.59L10.3 9.45l-7.72 7.72c-.78.78-.78 2.05 0 2.83L4 21.41c.39.39.9.59 1.41.59.51 0 1.02-.2 1.41-.59l7.78-7.78 2.81-2.81c.8-.78.8-2.07 0-2.86zM5.41 20L4 18.59l7.72-7.72 1.47 1.35L5.41 20z\"/>\n",
              "  </svg>\n",
              "      </button>\n",
              "      \n",
              "  <style>\n",
              "    .colab-df-container {\n",
              "      display:flex;\n",
              "      flex-wrap:wrap;\n",
              "      gap: 12px;\n",
              "    }\n",
              "\n",
              "    .colab-df-convert {\n",
              "      background-color: #E8F0FE;\n",
              "      border: none;\n",
              "      border-radius: 50%;\n",
              "      cursor: pointer;\n",
              "      display: none;\n",
              "      fill: #1967D2;\n",
              "      height: 32px;\n",
              "      padding: 0 0 0 0;\n",
              "      width: 32px;\n",
              "    }\n",
              "\n",
              "    .colab-df-convert:hover {\n",
              "      background-color: #E2EBFA;\n",
              "      box-shadow: 0px 1px 2px rgba(60, 64, 67, 0.3), 0px 1px 3px 1px rgba(60, 64, 67, 0.15);\n",
              "      fill: #174EA6;\n",
              "    }\n",
              "\n",
              "    [theme=dark] .colab-df-convert {\n",
              "      background-color: #3B4455;\n",
              "      fill: #D2E3FC;\n",
              "    }\n",
              "\n",
              "    [theme=dark] .colab-df-convert:hover {\n",
              "      background-color: #434B5C;\n",
              "      box-shadow: 0px 1px 3px 1px rgba(0, 0, 0, 0.15);\n",
              "      filter: drop-shadow(0px 1px 2px rgba(0, 0, 0, 0.3));\n",
              "      fill: #FFFFFF;\n",
              "    }\n",
              "  </style>\n",
              "\n",
              "      <script>\n",
              "        const buttonEl =\n",
              "          document.querySelector('#df-b53799a5-325a-4c01-ab43-cb7149937127 button.colab-df-convert');\n",
              "        buttonEl.style.display =\n",
              "          google.colab.kernel.accessAllowed ? 'block' : 'none';\n",
              "\n",
              "        async function convertToInteractive(key) {\n",
              "          const element = document.querySelector('#df-b53799a5-325a-4c01-ab43-cb7149937127');\n",
              "          const dataTable =\n",
              "            await google.colab.kernel.invokeFunction('convertToInteractive',\n",
              "                                                     [key], {});\n",
              "          if (!dataTable) return;\n",
              "\n",
              "          const docLinkHtml = 'Like what you see? Visit the ' +\n",
              "            '<a target=\"_blank\" href=https://colab.research.google.com/notebooks/data_table.ipynb>data table notebook</a>'\n",
              "            + ' to learn more about interactive tables.';\n",
              "          element.innerHTML = '';\n",
              "          dataTable['output_type'] = 'display_data';\n",
              "          await google.colab.output.renderOutput(dataTable, element);\n",
              "          const docLink = document.createElement('div');\n",
              "          docLink.innerHTML = docLinkHtml;\n",
              "          element.appendChild(docLink);\n",
              "        }\n",
              "      </script>\n",
              "    </div>\n",
              "  </div>\n",
              "  "
            ]
          },
          "metadata": {},
          "execution_count": 333
        }
      ]
    },
    {
      "cell_type": "code",
      "source": [
        "import pandas\n",
        "import numpy as np\n",
        "import seaborn as sns\n",
        "import matplotlib.pyplot as plt\n",
        "from sklearn import metrics\n",
        "from sklearn import linear_model as lm\n",
        "from sklearn import preprocessing\n",
        "from sklearn import pipeline\n",
        "from sklearn.preprocessing import StandardScaler\n",
        "from sklearn import model_selection\n",
        "from sklearn import linear_model as lm\n",
        "from sklearn import neighbors\n",
        "from sklearn import ensemble\n",
        "from sklearn import svm\n",
        "from sklearn.ensemble import RandomForestRegressor\n",
        "from sklearn.pipeline import make_pipeline\n",
        "from sklearn.impute import SimpleImputer\n",
        "from sklearn.preprocessing import StandardScaler\n",
        "\n",
        "\n",
        "pandas.set_option(\"display.precision\", 2)\n",
        "\n",
        "\n",
        "target_outlier = True\n",
        "feature_outlier= True\n",
        "feature_norm   = True\n",
        "target_norm    = False\n",
        "\n",
        "target_variable = ['price']\n",
        "\n",
        "info_variables = ['id', 'name', 'host_id', 'host_name']\n",
        "categorical_variables = ['room_type','neighbourhood',]\n",
        "\n",
        "numeric_variables = ['latitude', 'longitude', 'minimum_nights',\n",
        "                       'number_of_reviews',  'reviews_per_month', 'calculated_host_listings_count',\n",
        "                       'availability_365', 'number_of_reviews_ltm']"
      ],
      "metadata": {
        "id": "isNx1wjQF5TV"
      },
      "execution_count": 334,
      "outputs": []
    },
    {
      "cell_type": "markdown",
      "source": [
        "## Tratanto outliers e normalizando dados\n",
        "\n",
        "### Normalização de Variáveis\n"
      ],
      "metadata": {
        "id": "2li5Ub7xJigx"
      }
    },
    {
      "cell_type": "code",
      "source": [
        "if feature_norm:\n",
        "    log_norm_cols = ['minimum_nights', 'number_of_reviews', \n",
        "                     'reviews_per_month', 'calculated_host_listings_count','availability_365', 'number_of_reviews_ltm']\n",
        "\n",
        "    df_clean[log_norm_cols] = preprocessing.power_transform(df_clean[log_norm_cols], method='yeo-johnson')"
      ],
      "metadata": {
        "id": "_dG7wlZNJHyb"
      },
      "execution_count": 335,
      "outputs": []
    },
    {
      "cell_type": "markdown",
      "source": [
        "### Remoção Outlier Variáveis\n"
      ],
      "metadata": {
        "id": "stWxJXklJsPH"
      }
    },
    {
      "cell_type": "code",
      "source": [
        "if feature_outlier:\n",
        "    for cname in numeric_variables:\n",
        "        lo_lim = np.quantile(df_clean[cname], 0.10)\n",
        "        up_lim = np.quantile(df_clean[cname], 0.90)\n",
        "        df_clean.loc[df_clean[cname] < lo_lim, cname] = lo_lim\n",
        "        df_clean.loc[df_clean[cname] > up_lim, cname] = up_lim"
      ],
      "metadata": {
        "id": "LJvGqv_fJTsr"
      },
      "execution_count": 336,
      "outputs": []
    },
    {
      "cell_type": "markdown",
      "source": [
        "### Normalizando o Alvo"
      ],
      "metadata": {
        "id": "-HWIt7mNJwzU"
      }
    },
    {
      "cell_type": "code",
      "source": [
        "if target_norm:\n",
        "    df_clean[target_variable] = np.log1p(df_clean[target_variable])"
      ],
      "metadata": {
        "id": "2uCBRrpcJoXT"
      },
      "execution_count": 337,
      "outputs": []
    },
    {
      "cell_type": "markdown",
      "source": [
        "### Codificando Variaveis\n"
      ],
      "metadata": {
        "id": "rwCvBo73Jy0r"
      }
    },
    {
      "cell_type": "code",
      "source": [
        "if len(categorical_variables):\n",
        "    cat_data = pandas.get_dummies(df_clean[categorical_variables])\n",
        "    df_clean = pandas.concat((df_clean.drop(categorical_variables,axis=1), cat_data), axis=1, sort=False)\n",
        "    df_clean.drop(info_variables, axis=1, inplace=True)\n",
        "else:\n",
        "    df_clean = df_clean[numeric_variables+target_variable]"
      ],
      "metadata": {
        "id": "nETNEutuJfaz"
      },
      "execution_count": 338,
      "outputs": []
    },
    {
      "cell_type": "markdown",
      "source": [
        "# Aplicando os modelos"
      ],
      "metadata": {
        "id": "Qn1EhDKSEkaf"
      }
    },
    {
      "cell_type": "markdown",
      "source": [
        "## Curva de aprendizado"
      ],
      "metadata": {
        "id": "p4qCvPKwSYx-"
      }
    },
    {
      "cell_type": "code",
      "source": [
        "from sklearn.model_selection import learning_curve\n",
        "from sklearn.model_selection import ShuffleSplit\n",
        "\n",
        "\n",
        "def plot_learning_curve(estimator, title, X, y, ax=None, ylim=None, cv=None,\n",
        "                        scoring = 'mse', n_jobs=None, train_sizes=np.linspace(.1, 1.0, 5)):\n",
        "    \"\"\"\n",
        "    Generate 3 plots: the test and training learning curve, the training\n",
        "    samples vs fit times curve, the fit times vs score curve.\n",
        "\n",
        "    Parameters\n",
        "    ----------\n",
        "    estimator : object type that implements the \"fit\" and \"predict\" methods\n",
        "        An object of that type which is cloned for each validation.\n",
        "\n",
        "    title : string\n",
        "        Title for the chart.\n",
        "\n",
        "    X : array-like, shape (n_samples, n_features)\n",
        "        Training vector, where n_samples is the number of samples and\n",
        "        n_features is the number of features.\n",
        "\n",
        "    y : array-like, shape (n_samples) or (n_samples, n_features), optional\n",
        "        Target relative to X for classification or regression;\n",
        "        None for unsupervised learning.\n",
        "\n",
        "    axes : array of 3 axes, optional (default=None)\n",
        "        Axes to use for plotting the curves.\n",
        "\n",
        "    ylim : tuple, shape (ymin, ymax), optional\n",
        "        Defines minimum and maximum yvalues plotted.\n",
        "\n",
        "    cv : int, cross-validation generator or an iterable, optional\n",
        "        Determines the cross-validation splitting strategy.\n",
        "        Possible inputs for cv are:\n",
        "\n",
        "          - None, to use the default 5-fold cross-validation,\n",
        "          - integer, to specify the number of folds.\n",
        "          - :term:`CV splitter`,\n",
        "          - An iterable yielding (train, test) splits as arrays of indices.\n",
        "\n",
        "        For integer/None inputs, if ``y`` is binary or multiclass,\n",
        "        :class:`StratifiedKFold` used. If the estimator is not a classifier\n",
        "        or if ``y`` is neither binary nor multiclass, :class:`KFold` is used.\n",
        "\n",
        "        Refer :ref:`User Guide <cross_validation>` for the various\n",
        "        cross-validators that can be used here.\n",
        "\n",
        "    n_jobs : int or None, optional (default=None)\n",
        "        Number of jobs to run in parallel.\n",
        "        ``None`` means 1 unless in a :obj:`joblib.parallel_backend` context.\n",
        "        ``-1`` means using all processors. See :term:`Glossary <n_jobs>`\n",
        "        for more details.\n",
        "\n",
        "    train_sizes : array-like, shape (n_ticks,), dtype float or int\n",
        "        Relative or absolute numbers of training examples that will be used to\n",
        "        generate the learning curve. If the dtype is float, it is regarded as a\n",
        "        fraction of the maximum size of the training set (that is determined\n",
        "        by the selected validation method), i.e. it has to be within (0, 1].\n",
        "        Otherwise it is interpreted as absolute sizes of the training sets.\n",
        "        Note that for classification the number of samples usually have to\n",
        "        be big enough to contain at least one sample from each class.\n",
        "        (default: np.linspace(0.1, 1.0, 5))\n",
        "    \"\"\"\n",
        "    if ax is None:\n",
        "        plt.figure()\n",
        "        ax = plt.gca()\n",
        "        \n",
        "    ax.set_title(title)\n",
        "    ax.set_xlabel(\"Exemplos do Treino\")\n",
        "    ax.set_ylabel(\"Score\")\n",
        "\n",
        "    train_sizes, train_scores, test_scores = \\\n",
        "        learning_curve(estimator, X, y, cv=cv, n_jobs=n_jobs,\n",
        "                       train_sizes=train_sizes,\n",
        "                       scoring=scoring)\n",
        "   \n",
        "    train_scores_mean = np.mean(train_scores, axis=1)\n",
        "    train_scores_std = np.std(train_scores, axis=1)\n",
        "    test_scores_mean = np.mean(test_scores, axis=1)\n",
        "    test_scores_std = np.std(test_scores, axis=1)\n",
        "    \n",
        "    # Plot learning curve\n",
        "    ax.grid()\n",
        "    ax.fill_between(train_sizes, train_scores_mean - train_scores_std,\n",
        "                         train_scores_mean + train_scores_std, alpha=0.1,\n",
        "                         color=\"r\")\n",
        "    ax.fill_between(train_sizes, test_scores_mean - test_scores_std,\n",
        "                         test_scores_mean + test_scores_std, alpha=0.1,\n",
        "                         color=\"g\")\n",
        "    ax.plot(train_sizes, train_scores_mean, 'o-', color=\"r\",\n",
        "                 label=\"Score treino\")\n",
        "    ax.plot(train_sizes, test_scores_mean, 'o-', color=\"g\",\n",
        "                 label=\"Score Validação-cruzada\")\n",
        "    ax.legend(loc=\"best\")\n",
        "\n",
        "    \n",
        "    return ax"
      ],
      "metadata": {
        "id": "E-5Xm4svSuTL"
      },
      "execution_count": 342,
      "outputs": []
    },
    {
      "cell_type": "markdown",
      "source": [
        "## Validação Cruzada"
      ],
      "metadata": {
        "id": "t4_jUlYfSKap"
      }
    },
    {
      "cell_type": "code",
      "source": [
        "# Train Pipeline\n",
        "X = df_clean.drop(target_variable, axis=1).values\n",
        "Y = df_clean[target_variable].values\n",
        "\n",
        "# Dividir 20% dos dados para o conjunto out-of-sample de teste\n",
        "Xtrain, Xtest, Ytrain, Ytest = model_selection.train_test_split(X,\n",
        "                                                                Y.reshape(-1),\n",
        "                                                                test_size=0.2,\n",
        "                                                                random_state=0)\n",
        "\n",
        "# Objeto de validacao cruzada\n",
        "cvfold = model_selection.KFold(n_splits = 10)"
      ],
      "metadata": {
        "id": "WrpbK9pSQ8zU"
      },
      "execution_count": 389,
      "outputs": []
    },
    {
      "cell_type": "code",
      "source": [
        "plt.figure()\n",
        "\n",
        "scorer = metrics.make_scorer(metrics.mean_squared_error)\n",
        "\n",
        "title = \"Curva de Aprendizado (Regressão Linear)\"\n",
        "estimator = lm.RidgeCV()\n",
        "plot_learning_curve(estimator, title, Xtrain, Ytrain, ax=plt.gca(),\n",
        "                    cv=cvfold, scoring=scorer, n_jobs=3)"
      ],
      "metadata": {
        "colab": {
          "base_uri": "https://localhost:8080/",
          "height": 312
        },
        "id": "qWB_8YBQSL8H",
        "outputId": "ab4a386f-571b-4f06-b082-e084313de381"
      },
      "execution_count": 390,
      "outputs": [
        {
          "output_type": "execute_result",
          "data": {
            "text/plain": [
              "<matplotlib.axes._subplots.AxesSubplot at 0x7f7ffaee2910>"
            ]
          },
          "metadata": {},
          "execution_count": 390
        },
        {
          "output_type": "display_data",
          "data": {
            "text/plain": [
              "<Figure size 432x288 with 1 Axes>"
            ],
            "image/png": "[encoded data removed]"
          },
          "metadata": {
            "needs_background": "light"
          }
        }
      ]
    },
    {
      "cell_type": "code",
      "source": [
        "# Crie o pipeline (SimpleImputer + scaler + regressor)\n",
        "model_pipe = make_pipeline(SimpleImputer(), StandardScaler(),\n",
        "                               lm.RidgeCV(store_cv_values=True,scoring=scorer))\n",
        "\n",
        "# Ajuste o modelo\n",
        "model_pipe.fit(Xtrain, Ytrain)"
      ],
      "metadata": {
        "colab": {
          "base_uri": "https://localhost:8080/"
        },
        "id": "IJpCJoD_Sc0d",
        "outputId": "a8927426-dd62-4f9d-81ee-ea22f8ab02c2"
      },
      "execution_count": 391,
      "outputs": [
        {
          "output_type": "execute_result",
          "data": {
            "text/plain": [
              "Pipeline(steps=[('simpleimputer', SimpleImputer()),\n",
              "                ('standardscaler', StandardScaler()),\n",
              "                ('ridgecv',\n",
              "                 RidgeCV(alphas=array([ 0.1,  1. , 10. ]),\n",
              "                         scoring=make_scorer(mean_squared_error),\n",
              "                         store_cv_values=True))])"
            ]
          },
          "metadata": {},
          "execution_count": 391
        }
      ]
    },
    {
      "cell_type": "code",
      "source": [
        "Yhat = model_pipe.predict(Xtest)\n",
        "\n",
        "if target_norm:\n",
        "    Yhat = np.expm1(Yhat)\n",
        "    Ytest = np.expm1(Ytest)\n",
        "else:\n",
        "    Yhat[Yhat<0] = 0\n",
        "\n",
        "\n",
        "print('Yhat.shape:', Yhat.shape)"
      ],
      "metadata": {
        "colab": {
          "base_uri": "https://localhost:8080/"
        },
        "id": "Np7JU0eeS7Jz",
        "outputId": "7d6ddc51-63ca-499a-ad88-8b2d5396ce77"
      },
      "execution_count": 392,
      "outputs": [
        {
          "output_type": "stream",
          "name": "stdout",
          "text": [
            "Yhat.shape: (4294,)\n"
          ]
        }
      ]
    },
    {
      "cell_type": "code",
      "source": [
        "plt.figure()\n",
        "# idx = Y < 1000\n",
        "sns.distplot(Yhat)\n",
        "sns.distplot(Ytest)\n",
        "plt.title('Resultado Regressão Linear')\n",
        "plt.ylabel('Densidade Estimada KDE')\n",
        "plt.xlabel('Estimativa Modelo')\n",
        "plt.grid()\n",
        "plt.legend()"
      ],
      "metadata": {
        "colab": {
          "base_uri": "https://localhost:8080/",
          "height": 419
        },
        "id": "KtDJXtIeTN_R",
        "outputId": "c9577a0d-11e6-4c2e-90ad-782f2d23fbba"
      },
      "execution_count": 394,
      "outputs": [
        {
          "output_type": "stream",
          "name": "stderr",
          "text": [
            "/usr/local/lib/python3.7/dist-packages/seaborn/distributions.py:2619: FutureWarning: `distplot` is a deprecated function and will be removed in a future version. Please adapt your code to use either `displot` (a figure-level function with similar flexibility) or `histplot` (an axes-level function for histograms).\n",
            "  warnings.warn(msg, FutureWarning)\n",
            "/usr/local/lib/python3.7/dist-packages/seaborn/distributions.py:2619: FutureWarning: `distplot` is a deprecated function and will be removed in a future version. Please adapt your code to use either `displot` (a figure-level function with similar flexibility) or `histplot` (an axes-level function for histograms).\n",
            "  warnings.warn(msg, FutureWarning)\n",
            "No handles with labels found to put in legend.\n"
          ]
        },
        {
          "output_type": "execute_result",
          "data": {
            "text/plain": [
              "<matplotlib.legend.Legend at 0x7f7ffb356810>"
            ]
          },
          "metadata": {},
          "execution_count": 394
        },
        {
          "output_type": "display_data",
          "data": {
            "text/plain": [
              "<Figure size 432x288 with 1 Axes>"
            ],
            "image/png": "[encoded data removed]"
          },
          "metadata": {
            "needs_background": "light"
          }
        }
      ]
    },
    {
      "cell_type": "code",
      "source": [
        "plt.figure()\n",
        "\n",
        "plt.plot([0, Ytest.max()], [0, Ytest.max()], '-k',lw=2,label='Linha Ideal')\n",
        "plt.scatter(Ytest, Yhat, label='Regressão linear')\n",
        "plt.xlabel('Valor real (preco)')\n",
        "plt.ylabel('Valor estimado (preco)')\n",
        "plt.grid()"
      ],
      "metadata": {
        "colab": {
          "base_uri": "https://localhost:8080/",
          "height": 279
        },
        "id": "3WQuzc93TUKL",
        "outputId": "f90d6da2-8506-4fc2-968c-9afb3c46c941"
      },
      "execution_count": 395,
      "outputs": [
        {
          "output_type": "display_data",
          "data": {
            "text/plain": [
              "<Figure size 432x288 with 1 Axes>"
            ],
            "image/png": "[encoded data removed]"
          },
          "metadata": {
            "needs_background": "light"
          }
        }
      ]
    },
    {
      "cell_type": "code",
      "source": [
        "plt.figure()\n",
        "plt.scatter(Yhat, Ytest - Yhat, label='Regressão linear')\n",
        "plt.xlabel('Valor Estimado (preco)')\n",
        "plt.ylabel('Residuo (preco)')\n",
        "plt.grid()"
      ],
      "metadata": {
        "colab": {
          "base_uri": "https://localhost:8080/",
          "height": 279
        },
        "id": "--aikQ7HTbz0",
        "outputId": "1791c36c-43e2-4110-e998-ea107d3b9eee"
      },
      "execution_count": 396,
      "outputs": [
        {
          "output_type": "display_data",
          "data": {
            "text/plain": [
              "<Figure size 432x288 with 1 Axes>"
            ],
            "image/png": "[encoded data removed]"
          },
          "metadata": {
            "needs_background": "light"
          }
        }
      ]
    },
    {
      "cell_type": "code",
      "source": [
        "def mape(y, yhat):\n",
        "    idx = y != 0\n",
        "    return np.mean(np.abs((y[idx]-yhat[idx])/ y[idx])) * 100\n",
        "\n",
        "\n",
        "print('r2  :', metrics.r2_score(Ytest, Yhat))\n",
        "print('mse :', metrics.mean_squared_error(Ytest, Yhat))\n",
        "print('msle:', metrics.mean_squared_log_error(Ytest, Yhat))\n",
        "print('mae :', metrics.mean_absolute_error(Ytest, Yhat))\n",
        "print('mape:', mape(Ytest, Yhat))"
      ],
      "metadata": {
        "colab": {
          "base_uri": "https://localhost:8080/"
        },
        "id": "X9sDxLrjVrbl",
        "outputId": "151ece39-9c54-4ff8-edcd-097b5b21e426"
      },
      "execution_count": 397,
      "outputs": [
        {
          "output_type": "stream",
          "name": "stdout",
          "text": [
            "r2  : 0.27765872830522453\n",
            "mse : 89698.7240031063\n",
            "msle: 0.5434646910684029\n",
            "mae : 233.06615389273023\n",
            "mape: 71.29526447632107\n"
          ]
        }
      ]
    },
    {
      "cell_type": "code",
      "source": [
        "\n",
        "\n",
        "# Crie o pipeline (SimpleImputer + scaler + regressor)\n",
        "model_pipe = make_pipeline(SimpleImputer(), StandardScaler(),\n",
        "                               RandomForestRegressor(random_state=42))\n",
        "\n",
        "# Ajuste o modelo\n",
        "model_pipe.fit(Xtrain, Ytrain)"
      ],
      "metadata": {
        "colab": {
          "base_uri": "https://localhost:8080/"
        },
        "id": "u9mGGsRsYea5",
        "outputId": "f55b32e9-8810-445b-c8d8-6d9f7a51d38d"
      },
      "execution_count": 398,
      "outputs": [
        {
          "output_type": "execute_result",
          "data": {
            "text/plain": [
              "Pipeline(steps=[('simpleimputer', SimpleImputer()),\n",
              "                ('standardscaler', StandardScaler()),\n",
              "                ('randomforestregressor',\n",
              "                 RandomForestRegressor(random_state=42))])"
            ]
          },
          "metadata": {},
          "execution_count": 398
        }
      ]
    },
    {
      "cell_type": "code",
      "source": [
        "Yhat = model_pipe.predict(Xtest)\n",
        "\n",
        "if target_norm:\n",
        "    Yhat = np.expm1(Yhat)\n",
        "    Ytrain = np.expm1(Ytrain)\n",
        "else:\n",
        "    Yhat[Yhat<0] = 0\n",
        "\n",
        "print('Yhat.shape:', Yhat.shape)"
      ],
      "metadata": {
        "colab": {
          "base_uri": "https://localhost:8080/"
        },
        "id": "D9UYkOcWZs7V",
        "outputId": "8d6c3fb5-813f-4a74-97ba-e8d6d75d1d94"
      },
      "execution_count": 399,
      "outputs": [
        {
          "output_type": "stream",
          "name": "stdout",
          "text": [
            "Yhat.shape: (4294,)\n"
          ]
        }
      ]
    },
    {
      "cell_type": "code",
      "source": [
        "def mape(y, yhat):\n",
        "  idx = y != 0\n",
        "  return np.mean(np.abs((y[idx]-yhat[idx])/ y[idx])) * 100\n",
        "\n",
        "\n",
        "print('r2  :', metrics.r2_score(Ytest, Yhat))\n",
        "print('mse :', metrics.mean_squared_error(Ytest, Yhat))\n",
        "print('msle:', metrics.mean_squared_log_error(Ytest, Yhat))\n",
        "print('mae :', metrics.mean_absolute_error(Ytest, Yhat))\n",
        "print('mape:', mape(Ytest, Yhat))"
      ],
      "metadata": {
        "colab": {
          "base_uri": "https://localhost:8080/"
        },
        "id": "l3gZunzTYyZ0",
        "outputId": "be402e1a-54a5-4eaa-921e-fa9fba7c58e0"
      },
      "execution_count": 400,
      "outputs": [
        {
          "output_type": "stream",
          "name": "stdout",
          "text": [
            "r2  : 0.33950531923747485\n",
            "mse : 82018.75262676626\n",
            "msle: 0.37930531646712873\n",
            "mae : 217.21694382829688\n",
            "mape: 63.44687733271868\n"
          ]
        }
      ]
    },
    {
      "cell_type": "markdown",
      "source": [
        "# Ajuste de hiperparametros"
      ],
      "metadata": {
        "id": "Qjou-zBtfvuD"
      }
    },
    {
      "cell_type": "code",
      "source": [
        "# Número de árvores na floresta aleatória\n",
        "n_estimators = [int(x) for x in np.linspace(start = 10, stop = 1000, num = 11)]\n",
        "# Número de recursos a serem considerados em cada divisão\n",
        "max_features = ['auto', 'sqrt']\n",
        "# Número máximo de níveis na árvore\n",
        "max_depth = [int(x) for x in np.linspace(10, 110, num = 5)]\n",
        "max_depth.append(None)\n",
        "# Número mínimo de amostras necessárias para dividir um nó\n",
        "min_samples_split = [2, 5, 10]\n",
        "# Número mínimo de amostras necessárias em cada nó da folha\n",
        "min_samples_leaf = [1, 2, 4]\n",
        "# Método de seleção de amostras para treinar cada árvore\n",
        "bootstrap = [True, False]\n",
        "# Criando um random grid\n",
        "random_grid = {'randomforestregressor__n_estimators': n_estimators,\n",
        "               'randomforestregressor__max_features': max_features,\n",
        "               'randomforestregressor__max_depth': max_depth,\n",
        "               'randomforestregressor__min_samples_split': min_samples_split,\n",
        "               'randomforestregressor__min_samples_leaf': min_samples_leaf,\n",
        "               'randomforestregressor__bootstrap': bootstrap}"
      ],
      "metadata": {
        "id": "fED8SSdtfIii"
      },
      "execution_count": 406,
      "outputs": []
    },
    {
      "cell_type": "markdown",
      "source": [
        "## Random Search"
      ],
      "metadata": {
        "id": "aMwoHnfLf2kx"
      }
    },
    {
      "cell_type": "code",
      "source": [
        "# Use um random grid para procurar os melhores hyperparâmetros\n",
        "from sklearn.model_selection import RandomizedSearchCV\n",
        "\n",
        "# Random search de parâmetros, usando Validação cruzada de 2 vezes, \n",
        "# pesquise em 100 combinações diferentes e use todos os núcleos disponíveis\n",
        "rf_tuned = RandomizedSearchCV(estimator = model_pipe, \n",
        "                               param_distributions = random_grid, \n",
        "                               n_iter = 50, cv = 2, verbose=2,\n",
        "                               random_state = 42, n_jobs = -1, \n",
        "                               scoring = 'neg_median_absolute_error')\n",
        "# Encaixando no nosso modelo\n",
        "rf_tuned.fit(Xtrain, Ytrain)\n",
        "\n",
        "rf_tuned.best_params_"
      ],
      "metadata": {
        "colab": {
          "base_uri": "https://localhost:8080/"
        },
        "id": "PElcq6qhfQOx",
        "outputId": "98533232-88f0-4da1-919b-bd6f79b05aa7"
      },
      "execution_count": 407,
      "outputs": [
        {
          "metadata": {
            "tags": null
          },
          "name": "stdout",
          "output_type": "stream",
          "text": [
            "Fitting 2 folds for each of 50 candidates, totalling 100 fits\n"
          ]
        },
        {
          "metadata": {
            "tags": null
          },
          "name": "stderr",
          "output_type": "stream",
          "text": [
            "/usr/local/lib/python3.7/dist-packages/joblib/externals/loky/process_executor.py:705: UserWarning: A worker stopped while some jobs were given to the executor. This can be caused by a too short worker timeout or by a memory leak.\n",
            "  \"timeout or by a memory leak.\", UserWarning\n"
          ]
        },
        {
          "output_type": "execute_result",
          "data": {
            "text/plain": [
              "{'randomforestregressor__bootstrap': True,\n",
              " 'randomforestregressor__max_depth': None,\n",
              " 'randomforestregressor__max_features': 'auto',\n",
              " 'randomforestregressor__min_samples_leaf': 4,\n",
              " 'randomforestregressor__min_samples_split': 2,\n",
              " 'randomforestregressor__n_estimators': 208}"
            ]
          },
          "metadata": {},
          "execution_count": 407
        }
      ]
    },
    {
      "cell_type": "markdown",
      "source": [
        "## Grid Search"
      ],
      "metadata": {
        "id": "IwJEonc0gffD"
      }
    },
    {
      "cell_type": "code",
      "source": [
        "from sklearn.model_selection import GridSearchCV\n",
        "# Criando a grade de parâmetros com base nos resultados da pesquisa aleatória\n",
        "param_grid = {\n",
        "    'randomforestregressor__bootstrap': [True],\n",
        "    'randomforestregressor__max_depth': [30, 35, 40], \n",
        "    'randomforestregressor__max_features': ['auto'],\n",
        "    'randomforestregressor__min_samples_leaf': [5],\n",
        "    'randomforestregressor__min_samples_split': [2, 4, 6],\n",
        "    'randomforestregressor__n_estimators': [158, 208, 258] \n",
        "}\n",
        "\n",
        "# Instanciando o modelo de pesquisa em grade\n",
        "grid_search = GridSearchCV(estimator = model_pipe, \n",
        "                           param_grid = param_grid, \n",
        "                           cv = 3, n_jobs = -1, verbose = 2, \n",
        "                           scoring = 'neg_median_absolute_error')\n",
        "\n",
        "# Ajustar a pesquisa da grade aos dados\n",
        "grid_search.fit(Xtrain, Ytrain)\n",
        "\n",
        "grid_search.best_params_"
      ],
      "metadata": {
        "colab": {
          "base_uri": "https://localhost:8080/"
        },
        "id": "K3f7cqxvfdYE",
        "outputId": "61d2d9d6-ec69-4449-d6be-508e871a8087"
      },
      "execution_count": 410,
      "outputs": [
        {
          "output_type": "stream",
          "name": "stdout",
          "text": [
            "Fitting 3 folds for each of 27 candidates, totalling 81 fits\n"
          ]
        },
        {
          "output_type": "execute_result",
          "data": {
            "text/plain": [
              "{'randomforestregressor__bootstrap': True,\n",
              " 'randomforestregressor__max_depth': 30,\n",
              " 'randomforestregressor__max_features': 'auto',\n",
              " 'randomforestregressor__min_samples_leaf': 5,\n",
              " 'randomforestregressor__min_samples_split': 2,\n",
              " 'randomforestregressor__n_estimators': 158}"
            ]
          },
          "metadata": {},
          "execution_count": 410
        }
      ]
    },
    {
      "cell_type": "code",
      "source": [
        "# Criando o pipeline (SimpleImputer + scaler + regressor)\n",
        "model_pipe = make_pipeline(SimpleImputer(), StandardScaler(),\n",
        "                                      RandomForestRegressor(random_state=42,\n",
        "                                                            bootstrap = True,\n",
        "                                                            max_depth = 30,\n",
        "                                                            max_features = 'auto',\n",
        "                                                            min_samples_leaf = 5,\n",
        "                                                            min_samples_split = 2,\n",
        "                                                            n_estimators = 158))\n",
        "\n",
        "\n",
        "# Ajuste o modelo\n",
        "model_pipe.fit(Xtrain, Ytrain)"
      ],
      "metadata": {
        "colab": {
          "base_uri": "https://localhost:8080/"
        },
        "id": "IcVSyKWAgguB",
        "outputId": "afd8900a-7ee1-48e4-ab12-60c2a864ab40"
      },
      "execution_count": 411,
      "outputs": [
        {
          "output_type": "execute_result",
          "data": {
            "text/plain": [
              "Pipeline(steps=[('simpleimputer', SimpleImputer()),\n",
              "                ('standardscaler', StandardScaler()),\n",
              "                ('randomforestregressor',\n",
              "                 RandomForestRegressor(max_depth=30, min_samples_leaf=5,\n",
              "                                       n_estimators=158, random_state=42))])"
            ]
          },
          "metadata": {},
          "execution_count": 411
        }
      ]
    },
    {
      "cell_type": "code",
      "source": [
        "Yhat = model_pipe.predict(Xtest)\n",
        "\n",
        "if target_norm:\n",
        "    Yhat = np.expm1(Yhat)\n",
        "    Ytrain = np.expm1(Ytrain)\n",
        "else:\n",
        "    Yhat[Yhat<0] = 0\n",
        "\n",
        "print('Yhat.shape:', Yhat.shape)"
      ],
      "metadata": {
        "colab": {
          "base_uri": "https://localhost:8080/"
        },
        "outputId": "9c99c955-cd8e-463a-eb9b-3aa512f5fc51",
        "id": "3UQY5me9xTgq"
      },
      "execution_count": 412,
      "outputs": [
        {
          "output_type": "stream",
          "name": "stdout",
          "text": [
            "Yhat.shape: (4294,)\n"
          ]
        }
      ]
    },
    {
      "cell_type": "code",
      "source": [
        "def mape(y, yhat):\n",
        "  idx = y != 0\n",
        "  return np.mean(np.abs((y[idx]-yhat[idx])/ y[idx])) * 100\n",
        "\n",
        "\n",
        "print('r2  :', metrics.r2_score(Ytest, Yhat))\n",
        "print('mse :', metrics.mean_squared_error(Ytest, Yhat))\n",
        "print('msle:', metrics.mean_squared_log_error(Ytest, Yhat))\n",
        "print('mae :', metrics.mean_absolute_error(Ytest, Yhat))\n",
        "print('mape:', mape(Ytest, Yhat))"
      ],
      "metadata": {
        "colab": {
          "base_uri": "https://localhost:8080/"
        },
        "outputId": "5282cacd-1441-4df4-f18a-3cd468f6cb53",
        "id": "i5bpR0h3xTgr"
      },
      "execution_count": 413,
      "outputs": [
        {
          "output_type": "stream",
          "name": "stdout",
          "text": [
            "r2  : 0.36042576996319187\n",
            "mse : 79420.89783264119\n",
            "msle: 0.36972871369484145\n",
            "mae : 213.68627397301955\n",
            "mape: 62.66232759254026\n"
          ]
        }
      ]
    },
    {
      "cell_type": "code",
      "source": [
        ""
      ],
      "metadata": {
        "id": "tOCs7R--xPyB"
      },
      "execution_count": null,
      "outputs": []
    }
  ]
}